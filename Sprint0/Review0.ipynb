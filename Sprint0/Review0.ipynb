{
 "cells": [
  {
   "cell_type": "markdown",
   "metadata": {},
   "source": [
    "<h1 style=\"color:DodgerBlue\">Ревью 0</h1>"
   ]
  },
  {
   "cell_type": "markdown",
   "metadata": {},
   "source": []
  },
  {
   "cell_type": "markdown",
   "metadata": {},
   "source": []
  },
  {
   "cell_type": "markdown",
   "metadata": {},
   "source": [
    "<h2 style=\"color:DodgerBlue\">Реализация:</h2>\n",
    "\n",
    "----"
   ]
  },
  {
   "cell_type": "code",
   "execution_count": 3,
   "metadata": {
    "dotnet_interactive": {
     "language": "csharp"
    },
    "polyglot_notebook": {
     "kernelName": "csharp"
    }
   },
   "outputs": [
    {
     "name": "stdout",
     "output_type": "stream",
     "text": [
      "Цветок Роза распускается и радует глаза. Оно имеет Красный цвет и 7 лепестков\n",
      "Роза Растет и увеличивается в высоту 4 \n",
      "Дереву  покрывается новыми листьями!\n",
      "Дерево  выросло его возраст 11\n"
     ]
    }
   ],
   "source": [
    "public class Plant {\n",
    "\n",
    "    private string name;\n",
    "    private string type;\n",
    "    private float height;\n",
    "\n",
    "    public string Name {\n",
    "        get {return name;}\n",
    "        set {name = value;}\n",
    "    }\n",
    "\n",
    "    public string Type {\n",
    "        get {return type;}\n",
    "        set {type = value; }\n",
    "    }\n",
    "\n",
    "    public float Height {\n",
    "        get {return height;}\n",
    "        set {height = value;}\n",
    "    }\n",
    "\n",
    "    public void GetInfo() {\n",
    "        Console.WriteLine($\"Название: {Name}. Тип: {Type}. Высота: {Height}.\");\n",
    "    }\n",
    "\n",
    "    public virtual void Blossom() {\n",
    "        Console.WriteLine($\"Растение {Name} цветет.\");\n",
    "    }\n",
    "\n",
    "    public virtual void Growing() {\n",
    "\n",
    "        Console.WriteLine($\"{Name} Растет и увеличивается в высоту {Height} \");\n",
    "    }\n",
    "}\n",
    "\n",
    "public class Flower: Plant {\n",
    "    public string Color {get; set;}\n",
    "    public int PetalCount { get; set; }\n",
    "\n",
    "    public Flower(){\n",
    "        Color = Color;\n",
    "        PetalCount = PetalCount;\n",
    "    }\n",
    "\n",
    "    public override void Blossom() {\n",
    "        Console.WriteLine($\"Цветок {Name} распускается и радует глаза. Оно имеет {Color} цвет и {PetalCount} лепестков\");\n",
    "    }\n",
    "    \n",
    "    public void Fadeaway(){\n",
    "        Console.WriteLine($\"Цветок {Name} увядает\");\n",
    "    }\n",
    "}\n",
    "\n",
    "public class Tree: Plant {\n",
    "\n",
    "    public int Age {get; set;}\n",
    "    public string Typesheet { get; set; }\n",
    "\n",
    "    public Tree(){\n",
    "        Age = Age;\n",
    "        Typesheet = Typesheet;\n",
    "    }\n",
    "\n",
    "    public override void Blossom() {\n",
    "        Console.WriteLine($\"Дереву {Name} покрывается новыми листьями!\");\n",
    "    }\n",
    "\n",
    "    public override void Growing(){\n",
    "        Age++;\n",
    "        Console.WriteLine($\"Дерево {Name} выросло его возраст {Age}\");\n",
    "    }\n",
    "}\n",
    "\n",
    "Flower flower = new Flower();\n",
    "flower.Name = \"Роза\";\n",
    "flower.Color = \"Красный\";\n",
    "flower.PetalCount = 7;\n",
    "flower.Height= 4;\n",
    "flower.Blossom();\n",
    "flower.Growing();\n",
    "\n",
    "Tree tree = new Tree();\n",
    "tree.Age = 10;\n",
    "tree.Blossom();\n",
    "tree.Growing()"
   ]
  }
 ],
 "metadata": {
  "kernelspec": {
   "display_name": ".NET (C#)",
   "language": "C#",
   "name": ".net-csharp"
  },
  "polyglot_notebook": {
   "kernelInfo": {
    "defaultKernelName": "csharp",
    "items": [
     {
      "aliases": [],
      "languageName": "csharp",
      "name": "csharp"
     }
    ]
   }
  }
 },
 "nbformat": 4,
 "nbformat_minor": 2
}
