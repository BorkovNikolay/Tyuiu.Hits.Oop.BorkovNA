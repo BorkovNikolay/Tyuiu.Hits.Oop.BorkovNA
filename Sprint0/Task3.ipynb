{
 "cells": [
  {
   "cell_type": "markdown",
   "metadata": {},
   "source": [
    "<h1 style=\"color:DodgerBlue\">Индивидальный проект</h1>"
   ]
  },
  {
   "cell_type": "markdown",
   "metadata": {},
   "source": [
    "<h2 style=\"color:DodgerBlue\">Название проекта:</h2>\n",
    "\n",
    "----\n",
    "\n",
    "### Вариант задания 3\n"
   ]
  },
  {
   "cell_type": "markdown",
   "metadata": {},
   "source": [
    "<h2 style=\"color:DodgerBlue\">Описание проекта:</h2>\n",
    "\n",
    "----\n",
    "Создать базовый класс Employee в C#, который будет представлять информацию о\n",
    "сотрудниках компании. На основе этого класса разработать 2-3 производных\n",
    "класса, демонстрирующих принципы наследования и полиморфизма. В каждом из\n",
    "классов должны быть реализованы новые атрибуты и методы, а также\n",
    "переопределены некоторые методы базового класса для демонстрации\n",
    "полиморфизма.\n",
    "\n",
    "\n"
   ]
  },
  {
   "cell_type": "markdown",
   "metadata": {},
   "source": [
    "<h2 style=\"color:DodgerBlue\">Реализация:</h2>\n",
    "\n",
    "----"
   ]
  },
  {
   "cell_type": "code",
   "execution_count": null,
   "metadata": {
    "dotnet_interactive": {
     "language": "csharp"
    },
    "polyglot_notebook": {
     "kernelName": "csharp"
    }
   },
   "outputs": [
    {
     "name": "stdout",
     "output_type": "stream",
     "text": [
      "Ник выполняет рабочие обязанности и управляет командой из 15 подчиненных\n",
      "Дизайнер берет отпуск. Необходимо согласование отпуска с проектными сроками.\n"
     ]
    }
   ],
   "source": [
    "public class Employee {\n",
    "\n",
    "    private string name;\n",
    "    private decimal age;\n",
    "    private string salary;\n",
    "\n",
    "    public string Name {\n",
    "        get {return name;}\n",
    "        set {name = value;}\n",
    "    }\n",
    "\n",
    "    public decimal Age {\n",
    "        get {return age;}\n",
    "        set {age = value; }\n",
    "    }\n",
    "\n",
    "    public string Salary {\n",
    "        get {return salary;}\n",
    "        set {salary = value;}\n",
    "    }\n",
    "\n",
    "    public void GetInfo() {\n",
    "        Console.WriteLine($\"Имя: {Name}. Возраст: {Age}. Зарплата: {Salary}.\");\n",
    "    }\n",
    "\n",
    "    public virtual void Work() {\n",
    "        Console.WriteLine($\"Имя: {Name} Выполнил работу.\");\n",
    "    }\n",
    "\n",
    "    public virtual void TakeVacation() {\n",
    "        Console.WriteLine($\"{Name} взял отпуск.\");\n",
    "    }\n",
    "}\n",
    "\n",
    "public class Manager: Employee {\n",
    "    public decimal SubordinatesCount { get; set; }\n",
    "\n",
    "    public Manager(){\n",
    "        SubordinatesCount = SubordinatesCount;\n",
    "    }\n",
    "\n",
    "    public override void Work() {\n",
    "        Console.WriteLine($\"{Name} выполняет рабочие обязанности и управляет командой из {SubordinatesCount} подчиненных.\");\n",
    "    }\n",
    "\n",
    "}\n",
    "\n",
    "public class Developer: Employee {\n",
    "    public string Specialization { get; set; }\n",
    "\n",
    "    public Developer(){\n",
    "        Specialization = Specialization;\n",
    "    }\n",
    "\n",
    "    public override void TakeVacation() {\n",
    "        Console.WriteLine($\"{Specialization} берет отпуск. Необходимо согласование отпуска с проектными сроками.\");\n",
    "    }\n",
    "\n",
    "\n",
    "}\n",
    "\n",
    "Manager мanager = new Manager();\n",
    "мanager.Name = \"Ник\";\n",
    "мanager.SubordinatesCount = 15;\n",
    "мanager.Work();\n",
    "\n",
    "Developer developer = new Developer();\n",
    "developer.Specialization = \"Дизайнер\";\n",
    "developer.TakeVacation();"
   ]
  }
 ],
 "metadata": {
  "kernelspec": {
   "display_name": ".NET (C#)",
   "language": "C#",
   "name": ".net-csharp"
  },
  "polyglot_notebook": {
   "kernelInfo": {
    "defaultKernelName": "csharp",
    "items": [
     {
      "aliases": [],
      "languageName": "csharp",
      "name": "csharp"
     }
    ]
   }
  }
 },
 "nbformat": 4,
 "nbformat_minor": 2
}
