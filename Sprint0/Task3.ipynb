{
 "cells": [
  {
   "cell_type": "markdown",
   "metadata": {},
   "source": [
    "<h1 style=\"color:DodgerBlue\">Индивидальный проект</h1>"
   ]
  },
  {
   "cell_type": "markdown",
   "metadata": {},
   "source": [
    "<h2 style=\"color:DodgerBlue\">Название проекта:</h2>\n",
    "\n",
    "----\n",
    "\n",
    "### Вариант задания 7\n"
   ]
  },
  {
   "cell_type": "markdown",
   "metadata": {},
   "source": [
    "<h2 style=\"color:DodgerBlue\">Описание проекта:</h2>\n",
    "\n",
    "----\n",
    "\n",
    "Создать базовый класс BankAccount в C#, который будет представлять\n",
    "информацию об учетных записях в банке. На основе этого класса разработать 2-3\n",
    "производных класса, демонстрирующих принципы наследования и полиморфизма.\n",
    "В каждом из классов должны быть реализованы новые атрибуты и методы, а также\n",
    "переопределены некоторые методы базового класса для демонстрации\n",
    "полиморфизма.\n"
   ]
  },
  {
   "cell_type": "markdown",
   "metadata": {},
   "source": [
    "<h2 style=\"color:DodgerBlue\">Реализация:</h2>\n",
    "\n",
    "----"
   ]
  },
  {
   "cell_type": "code",
   "execution_count": 3,
   "metadata": {
    "dotnet_interactive": {
     "language": "csharp"
    },
    "polyglot_notebook": {
     "kernelName": "csharp"
    }
   },
   "outputs": [
    {
     "name": "stdout",
     "output_type": "stream",
     "text": [
      "Баланс сберегательного счета: 20.0\n",
      "Слишком большая сумма для снятия наличных\n",
      "Баланс текущего счета: 180\n"
     ]
    }
   ],
   "source": [
    "public class BankAccount {\n",
    "\n",
    "    private string accountNumber;\n",
    "    private decimal balance;\n",
    "    private string accountType;\n",
    "\n",
    "    public string AccountNumber {\n",
    "        get {return accountNumber;}\n",
    "        set {accountNumber = value;}\n",
    "    }\n",
    "\n",
    "    public decimal Balance {\n",
    "        get {return balance;}\n",
    "        set {balance = value; }\n",
    "    }\n",
    "\n",
    "    public string AccountType {\n",
    "        get {return accountType;}\n",
    "        set {accountType = value;}\n",
    "    }\n",
    "\n",
    "    public void GetInfo() {\n",
    "        Console.WriteLine($\"Номер счета: {AccountNumber}. Тип счета: {AccountType}. Баланс: {Balance}.\");\n",
    "    }\n",
    "\n",
    "    public virtual void Deposit(decimal amount) {\n",
    "        balance = balance + amount;\n",
    "    }\n",
    "\n",
    "    public virtual void Withdraw(decimal amount) {\n",
    "        balance = balance - amount;\n",
    "    }\n",
    "}\n",
    "\n",
    "public class SavingsAccount: BankAccount {\n",
    "    private decimal interestRate;\n",
    "\n",
    "    public decimal InterestRate {\n",
    "        get{return interestRate;}\n",
    "        set{interestRate = value;}\n",
    "    }\n",
    "\n",
    "    public override void Deposit(decimal amount) {\n",
    "        Balance = Balance + amount * interestRate;\n",
    "    }\n",
    "\n",
    "    public override void Withdraw(decimal amount) {\n",
    "        Balance = Balance - amount;\n",
    "    }\n",
    "}\n",
    "\n",
    "public class CheckingAccount: BankAccount {\n",
    "    private decimal overdraftLimit;\n",
    "\n",
    "    public decimal OverdraftLimit {\n",
    "        get{return overdraftLimit;}\n",
    "        set{overdraftLimit = value;}\n",
    "    }\n",
    "\n",
    "    public override void Withdraw(decimal amount) {\n",
    "        if (OverdraftLimit > amount) {\n",
    "            Balance = Balance - amount;\n",
    "        }\n",
    "        else {\n",
    "            Console.WriteLine(\"Слишком большая сумма для снятия наличных\");\n",
    "        }\n",
    "    }\n",
    "}\n",
    "\n",
    "SavingsAccount mySavingsAccount = new SavingsAccount();\n",
    "mySavingsAccount.InterestRate = 0.2m;\n",
    "mySavingsAccount.Deposit(100m);\n",
    "Console.WriteLine($\"Баланс сберегательного счета: {mySavingsAccount.Balance}\");\n",
    "\n",
    "CheckingAccount myCheckingAccount = new CheckingAccount();\n",
    "myCheckingAccount.OverdraftLimit = 100m;\n",
    "myCheckingAccount.Deposit(200m);\n",
    "myCheckingAccount.Withdraw(120m);\n",
    "myCheckingAccount.Withdraw(20m);\n",
    "Console.WriteLine($\"Баланс текущего счета: {myCheckingAccount.Balance}\");"
   ]
  }
 ],
 "metadata": {
  "kernelspec": {
   "display_name": ".NET (C#)",
   "language": "C#",
   "name": ".net-csharp"
  },
  "polyglot_notebook": {
   "kernelInfo": {
    "defaultKernelName": "csharp",
    "items": [
     {
      "aliases": [],
      "languageName": "csharp",
      "name": "csharp"
     }
    ]
   }
  }
 },
 "nbformat": 4,
 "nbformat_minor": 2
}
