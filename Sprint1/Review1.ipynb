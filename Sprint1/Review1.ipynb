{
 "cells": [
  {
   "cell_type": "markdown",
   "metadata": {},
   "source": [
    "<h1 style=\"color:DodgerBlue\">Ревью 1</h1>"
   ]
  },
  {
   "cell_type": "markdown",
   "metadata": {},
   "source": [
    "<h2 style=\"color:DodgerBlue\">Реализация:</h2>\n",
    "\n",
    "----"
   ]
  },
  {
   "cell_type": "code",
   "execution_count": null,
   "metadata": {
    "dotnet_interactive": {
     "language": "csharp"
    },
    "polyglot_notebook": {
     "kernelName": "csharp"
    }
   },
   "outputs": [],
   "source": [
    "class Product\n",
    "{\n",
    "    // Атрибуты\n",
    "    public string name {get; set;}\n",
    "    private decimal price {get; set;}\n",
    "    private int quantity {get; set;}\n",
    "    protected string category {get; set;}\n",
    "    internal string description {get; set;}\n",
    "\n",
    "    // Общая стоимость\n",
    "    public decimal GetTotalPrice()\n",
    "    {\n",
    "        return price*quantity;   \n",
    "    }\n",
    "    // Обновляет количество\n",
    "    public void UpdateQuantity(int amount)\n",
    "    {\n",
    "        quantity += amount;\n",
    "    }\n",
    "    // Описание товара\n",
    "    public string GetProductinfo()\n",
    "    {\n",
    "        return description;\n",
    "    }\n",
    "}\n",
    "\n",
    "class Seller\n",
    "{\n",
    "    // Атрибуты\n",
    "    public string Name {get; set;}\n",
    "    private string employeeld {get; set;}\n",
    "    protected decimal salary {get; set;}\n",
    "    internal string contractinfo {get; set;}\n",
    "\n",
    "    //Список продуктов и их количество\n",
    "    public List<string> products = new List<string>();\n",
    "    private int quantity;\n",
    "\n",
    "    //Добавление товара\n",
    "    public void AddProduct(Product product)\n",
    "    {\n",
    "        products.Add(product.name);\n",
    "        quantity += 1;\n",
    "    }\n",
    "    //Удаление товара\n",
    "    public void SellProduct(Product product, int quantity)\n",
    "    {\n",
    "        quantity -= 1;\n",
    "        products.Remove(product.name);\n",
    "    }\n",
    "}\n",
    "\n",
    "class Store\n",
    "{\n",
    "    // Атрибуты\n",
    "    private string storeName {get; set;}\n",
    "    private string location {get; set;}\n",
    "    public string storeHours {get; set;}\n",
    "    \n",
    "    public List<string> sellers = new List<string>();\n",
    "\n",
    "    //Добавление продавца\n",
    "    public void AddSeller(Seller seller)\n",
    "    {\n",
    "        sellers.Add(seller.Name);\n",
    "    }\n",
    " \n",
    "    // Перечисление продуктов \n",
    "    public void ListProducts(Seller seller)\n",
    "    {\n",
    "        if (sellers == null) return;\n",
    "        for (int i = 0; i < sellers.Count; i++)\n",
    "        {\n",
    "            if (seller.products == null) return;\n",
    "            for (int j = 0; j < seller.products.Count; i++)\n",
    "            {\n",
    "                Console.WriteLine(seller.products[i]);\n",
    "            }\n",
    "        }\n",
    "    }\n",
    "\n",
    "    // Возвращает информацию о магазине (локацию)\n",
    "    public string GetStoreInfo()\n",
    "    {\n",
    "        return location;\n",
    "    }\n",
    "}"
   ]
  },
  {
   "cell_type": "code",
   "execution_count": 3,
   "metadata": {
    "language_info": {
     "name": "polyglot-notebook"
    },
    "polyglot_notebook": {
     "kernelName": "csharp"
    }
   },
   "outputs": [],
   "source": []
  }
 ],
 "metadata": {
  "kernelspec": {
   "display_name": ".NET (C#)",
   "language": "C#",
   "name": ".net-csharp"
  },
  "polyglot_notebook": {
   "kernelInfo": {
    "defaultKernelName": "csharp",
    "items": [
     {
      "aliases": [],
      "languageName": "csharp",
      "name": "csharp"
     }
    ]
   }
  }
 },
 "nbformat": 4,
 "nbformat_minor": 2
}
